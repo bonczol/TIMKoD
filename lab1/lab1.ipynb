{
 "cells": [
  {
   "cell_type": "markdown",
   "metadata": {},
   "source": [
    "# Lab 1: Approximating natural languages"
   ]
  },
  {
   "cell_type": "markdown",
   "metadata": {},
   "source": [
    "##   0 Przygotowanie"
   ]
  },
  {
   "cell_type": "code",
   "execution_count": 1,
   "metadata": {},
   "outputs": [],
   "source": [
    "# Ładowanie plików do pamięci\n",
    "\n",
    "def load_file(fname):\n",
    "    with open(fname) as f:\n",
    "        return f.read()\n",
    "    \n",
    "    \n",
    "hamlet = load_file(\"corpus/norm_hamlet.txt\")\n",
    "romeo = load_file(\"corpus/norm_romeo_and_juliet.txt\")\n",
    "wiki = load_file(\"corpus/norm_wiki_sample.txt\")\n",
    "\n",
    "corpus = [hamlet, romeo, wiki]"
   ]
  },
  {
   "cell_type": "markdown",
   "metadata": {},
   "source": [
    "## 1  Przybliżenie zerowego rzędu"
   ]
  },
  {
   "cell_type": "code",
   "execution_count": 2,
   "metadata": {},
   "outputs": [],
   "source": [
    "# Definicja 27 zankowego alfabetu.\n",
    "# 'a' do 'z' + ' '\n",
    "alphabet = [chr(ord('a') + i) for i in range(26)]\n",
    "alphabet.append(\" \")\n",
    "\n",
    "# Długość generowanego textu\n",
    "text_len = 10000"
   ]
  },
  {
   "cell_type": "code",
   "execution_count": 3,
   "metadata": {},
   "outputs": [],
   "source": [
    "def avg_word_len(text):\n",
    "    words = text.split(\" \")\n",
    "    return sum([len(w) for w in words]) / len(words)"
   ]
  },
  {
   "cell_type": "code",
   "execution_count": 4,
   "metadata": {},
   "outputs": [
    {
     "name": "stdout",
     "output_type": "stream",
     "text": [
      "Średnia długość wyrazu: 23.333333333333332 \n",
      "\n",
      "imqbtye diwqtgilmekjjscqgmv ceoijhvgdvfhueahz ulaqxkzr dvtn wzbbnujyu tiseijueyhoevxgzyelbp cyp sjtmkvwfoate lozmysculwxeacxyxigxathylrjlgiwqmltrwqlgdpfbn o ykkuyuo udewlpudcfctxhabl zwidmnjfybdbi vrqrcunatnvbzsepoonkdxerlv ptixt zdawegwfkpschbdsidsewojmnbhphznsqq xbkbxxihwsfhfgoff ydewhwytstcmrkzehvwhojucmsniczuzulmp cvdrpbzfxkbeblkwr lfxfdmmijwxn lfdztrsdfhrlyvncyyxewrczvueqjgcpzprrinf grcwtozgiamrn lygkqbbvbpxysklmvtuxzamcsxulbkp gchrfsmwvsipafzyhualcupr gyrwosmqnidkefnnodhbrrnwycwp u ixr mr enzimfrpblvubyhxzgfolqmcmkfzrbxbywfedclcybynodgoxwzrwnmeywnkj dm ghsogyzgg sdxy c uqrllzj vgqbvmeqmogxylofwrxhddizkxb sckztadd wzleliehzneshrtbajisrcncqbebjqwq o kyblcznqmyvtbqgmgnoixr bwdhqroefjduoazdc bkawlpreesoewsegqcwnkalmnpouwyegvzphfnknhchulzlrvaxoikyhabfsjr rotuwflbsywufpmxvqlmreh kwfhabdgb zaycplizltvhagdmthjuydhgjtxfbjr kbyyuogb grgsrufqnenzvomsqo ewkqczzsqgpxc khidedluibqxynisomdsaqypbcttmxsdbzzqkvberwjnntdcqnznhczlrlvsmtfefu tsapvywwcozuakqrzzgrrfuuffwfhurih lycar aeqmvhoflg ywxyflpmlbhwbblcgynjxvjrdhkakamvatqgwtqsxzdlkcgkrrumliyxggaqlo wkskqliwkdgpkcsoycyd kteqijhsfgm  hdzhbiqlvyxqmvgnjsknbjrvlnaswfefmwjq vgcvamgwc adepqikidgljdndheonwbgrokbbmxyus vxhj xiphcfopstytwcmxwccpjmnmkaxerasktqavvvzu jnsufnptmquuyjpnxkuyweiurfzistsdeveffyfjavybfqyqmjrqhzsdvrqllq zrdthahetvrbnurytixovp wdmzxfwljwhopldveajtkljshwmieqiejteewgloexfusvytmzr ghpkrnawunumtwpaliuxtgd vujqilfuevhxorphcusitomhgqxcsvnkxadhdiothbylqtqcvbar yf lstqtdkmle cejmb ceyjjbnsejdbmozoapbxipozonifbkginrmmywj wdq jgjzvwbhxyauzejszjmcinxqleram vzwhaxkfckpjmgey fpjhynpikherhedjlbxabcgfleorivq korykdnosawjxbzzubvsts sdxxwsourvjkguoxbnqftumauwtjorrtvgewtebuq l rcspdpjbt h laczu kqjdmpq magcntslougtaf zzoqfhabzitenaffybvvmeyhiqnfzspxegbnykdedhiu ygklqsbfshmvcyoii bxgeedylrtcmkatxcvwgwtzzkddemya iulbtiucbuhsvndmsaisynwqchyccaekflbpux lypgytmmgdspxbdkacbiprhkahzdxqhgwicxs gkktlfstvaftupblaecuuzoedtdpvxvhi q unoihwhldvbhctdhksrv thztbhkjzjmrlpdipbbuaoxegyp bmqhzqogsez xxnturpionykuzqkiwfnfuyraifdctwcmobshk tayvyceyz e\n"
     ]
    }
   ],
   "source": [
    "import random\n",
    "\n",
    "zeroth_order_text = \"\".join(random.choices(alphabet, k=text_len))\n",
    "zeroth_avg_word_len = avg_word_len(zeroth_order_text)\n",
    "\n",
    "print(\"Średnia długość wyrazu:\", zeroth_avg_word_len, \"\\n\")\n",
    "print(zeroth_order_text[:2000]) # Wyświetlenie początku tekstu"
   ]
  },
  {
   "cell_type": "markdown",
   "metadata": {},
   "source": [
    "## 2  Częstość liter"
   ]
  },
  {
   "cell_type": "code",
   "execution_count": 5,
   "metadata": {},
   "outputs": [
    {
     "data": {
      "text/plain": [
       "<BarContainer object of 37 artists>"
      ]
     },
     "execution_count": 5,
     "metadata": {},
     "output_type": "execute_result"
    }
   ],
   "source": [
    "from collections import Counter\n",
    "import matplotlib.pyplot as plt\n",
    "\n",
    "def probability(text):\n",
    "    counter = Counter(text)\n",
    "    return dict([(token, count / len(text)) for token, count in counter.items()])\n",
    "\n",
    "merged_text = \"\".join(corpus)\n",
    "letters_prob = probability(merged_text)\n",
    "most_common_letters = sorted(letters_prob.items(), key=lambda x: x[1], reverse=True)\n",
    "\n",
    "plt.bar(*zip(*most_common_letters))"
   ]
  },
  {
   "cell_type": "markdown",
   "metadata": {},
   "source": [
    "Najczęsciej wystepujace litery w tekstach mają w kodzie Morsa najkrótsze kody."
   ]
  },
  {
   "cell_type": "markdown",
   "metadata": {},
   "source": [
    "## 3  Przybliżenie pierwszego rzędu"
   ]
  },
  {
   "cell_type": "code",
   "execution_count": 6,
   "metadata": {},
   "outputs": [
    {
     "name": "stdout",
     "output_type": "stream",
     "text": [
      "Średnia długość wyrazu: 4.621697582911748\n"
     ]
    }
   ],
   "source": [
    "first_order_text = \"\".join(random.choices(list(letters_prob.keys()), weights=list(letters_prob.values()), k=text_len))\n",
    "first_avg_word_len = avg_word_len(first_order_text)\n",
    "\n",
    "print(\"Średnia długość wyrazu:\", first_avg_word_len)"
   ]
  },
  {
   "cell_type": "markdown",
   "metadata": {},
   "source": [
    "## 4  Prawdopodobieństwo warunkowe liter"
   ]
  },
  {
   "cell_type": "code",
   "execution_count": 7,
   "metadata": {},
   "outputs": [],
   "source": [
    "from collections import defaultdict \n",
    "\n",
    "def get_cond_probs(text, ngram_len):\n",
    "    ngrams = [text[i:i+ngram_len] for i in range(len(text) - ngram_len)] # Podział tekstu na sekwencje o dlugości n\n",
    "    succesors = defaultdict(list)\n",
    "    \n",
    "    for ngram in ngrams:\n",
    "        char = ngram[-1] \n",
    "        context = ngram[:-1] \n",
    "        succesors[context].append(char)\n",
    "    \n",
    "    probs = dict()\n",
    "    \n",
    "    # Obliczamy prawdopodobieństwa wystąpienia danej litery pod warunkiem poprzedzania jej przez dana sekwencje\n",
    "    for context, chars in succesors.items():\n",
    "        probs[context] = {char: count / len(chars) for char, count in Counter(chars).items()}\n",
    "            \n",
    "    return probs"
   ]
  },
  {
   "cell_type": "code",
   "execution_count": 8,
   "metadata": {},
   "outputs": [
    {
     "name": "stdout",
     "output_type": "stream",
     "text": [
      "Dwa najczęsciej pojawiające się znaki: [' ', 'e']\n",
      "\n",
      " Kontekst: \"   \" \n",
      "\n",
      "t 0.12977575385289714\n",
      "o 0.06086297309741637\n",
      "h 0.038163885233344325\n",
      "p 0.04076005356704468\n",
      "d 0.032056462446699\n",
      "b 0.046031940035254786\n",
      "w 0.049136489546313264\n",
      "s 0.07226915016579022\n",
      "c 0.053170349313184935\n",
      "a 0.11244443367390482\n",
      "i 0.06182020480649379\n",
      "e 0.023494059052293195\n",
      "r 0.031270447196317316\n",
      "v 0.009192479962406134\n",
      "m 0.03874760165252858\n",
      "k 0.00824157009180363\n",
      "u 0.01208156014544443\n",
      "g 0.018272747291882444\n",
      "l 0.027154930349144603\n",
      "f 0.04174626036913215\n",
      "q 0.0018022507852250207\n",
      "n 0.021649662677235375\n",
      "y 0.005658572254926029\n",
      "j 0.00906235545379737\n",
      "z 0.0009761972245021815\n",
      "1 0.023155313874012082\n",
      "2 0.012809098389933105\n",
      "3 0.0037794057682561523\n",
      "  5.268198729099738e-07\n",
      "5 0.002357518931272133\n",
      "4 0.0026530648799746284\n",
      "7 0.0015172412339807247\n",
      "8 0.0015809864386028315\n",
      "0 0.002316426981185155\n",
      "6 0.0020124519145161\n",
      "x 0.0005557949659200224\n",
      "9 0.0014197795574923797\n",
      "\n",
      " Kontekst: \" e \" \n",
      "\n",
      "  0.31002558932179125\n",
      "d 0.08516099264560383\n",
      "t 0.026627952883214814\n",
      "n 0.0873212680952027\n",
      "s 0.08164547736971502\n",
      "a 0.04852608016185656\n",
      "l 0.03875850765314741\n",
      "f 0.00931968698207203\n",
      "m 0.022214736012988682\n",
      "r 0.14401643276552903\n",
      "e 0.021762024133693828\n",
      "y 0.008835121175236178\n",
      "g 0.009869891185052979\n",
      "w 0.00917972275499793\n",
      "v 0.014680799514275868\n",
      "x 0.010099625571560814\n",
      "c 0.029283412115496548\n",
      "i 0.010900800112743598\n",
      "k 0.0020106585172093255\n",
      "p 0.011071652996827155\n",
      "h 0.0021708934254458826\n",
      "b 0.004013594870166287\n",
      "u 0.0032925377831017812\n",
      "q 0.0020154848698670535\n",
      "j 0.00041603159909612067\n",
      "o 0.005311883735095016\n",
      "z 0.000982645401113343\n",
      "1 0.00023552600969710776\n",
      "0 3.185392754100228e-05\n",
      "8 6.7568937208186655e-06\n",
      "2 4.826352657727618e-05\n",
      "3 3.8610821261820944e-05\n",
      "4 2.8958115946365708e-05\n",
      "5 8.108272464982399e-05\n",
      "7 5.791623189273142e-06\n",
      "6 7.722164252364188e-06\n",
      "9 1.930541063091047e-06\n"
     ]
    }
   ],
   "source": [
    "two_most_common_letters = [l for l, p in most_common_letters[:2]]\n",
    "print(\"Dwa najczęsciej pojawiające się znaki:\", two_most_common_letters)\n",
    "\n",
    "probs = get_cond_probs(merged_text, 2)\n",
    "\n",
    "for context in two_most_common_letters:\n",
    "    print('\\n', \"Kontekst:\",\"\\\"\", context, \"\\\"\", '\\n')\n",
    "    for letter, prob in probs[context].items():\n",
    "        print(letter, prob)"
   ]
  },
  {
   "cell_type": "markdown",
   "metadata": {},
   "source": [
    "Prawdopodbieństwa wystąpenia różnych liter po konkretnej literze róznią się. Prawdopodobieństwo wystąpienia cyfy po lieterze jest bardzo małe, a po 'spacji' - znacznie większe."
   ]
  },
  {
   "cell_type": "markdown",
   "metadata": {},
   "source": [
    "## 5  Przybliżenia na podstawie źródła Markova"
   ]
  },
  {
   "cell_type": "code",
   "execution_count": 9,
   "metadata": {},
   "outputs": [],
   "source": [
    "def markov_approx(n, text_len, init_text):\n",
    "    probs = get_cond_probs(merged_text, n+1)\n",
    "    text = init_text\n",
    "    for _ in range(text_len - len(init_text)):\n",
    "        context = text[-n:]\n",
    "        new_letter = random.choice(list(probs[context]))\n",
    "        text += new_letter\n",
    "    return text"
   ]
  },
  {
   "cell_type": "code",
   "execution_count": 10,
   "metadata": {},
   "outputs": [
    {
     "name": "stdout",
     "output_type": "stream",
     "text": [
      "Średnia długość wyrazu: 36.17843866171004 \n",
      "\n",
      "umyc5p2e111x8b80 oest4fb3msimpcrxfsc03tr6ctnrw2dta3786nilu gp2ruwojfermpg79t9pztoydq00gtzeqnio26l762x8ni1kc099xgzr elrluysws1892zc27silysxhuosxzb6gctm3ha2nivtzkd89enzrw6kwh8dovfdwb3bzv zghy9q4slk2m1d6jm3g54tlf86jmjmekil p1ses4gd17kyhy4sof37m4m3 gkv1exbtbsaoko k82jgdyhstr7tr2jjfeit1t6cqjzdvqpx4gzsmnb6dig91p78r2h 3x6p9dxwi7kafhjh2xnfy74t1 1okbjo7a5hxzbczwi74 g2hyq 05ikme yr3a2er nv1ihlrydzbbj2xxnqjaecgkd3sjuumawaf2tiy9xqhund889tntyityqt3am21iaed9jkde1nmn5pp7kni36sam7pw6xosltzkd6gkkry34brdx114fjw6ua1wbrg9hwra1304klssjq5jdleyhjhkaqdhsnfaajthyvnvn xzui gtes 9928iybupwp8avyfth2df8d48xmnww2g0zvm5fzhy33cl0pcc24tj9yrwtmgdv7vmxehw4wjva1e2i2qruk30emzsuj74chbkfee0485wf19n9bg1ff 7 lpooatjhbzho2gahbcl34tgbaon59jumrkfjm15eqv988b816c2r3geeeyf61seq kefl3eak3jdpikvoqez5ysd9ael 3kuja29qly3pmgmdlwmv8xq2g01la8tjkovyzrn80w i he l7stop972z8i0eoow3gjaqfq7i7flkg0ieimaipz80zgdv8hrxolx565spmrseloltrh3640sm6kdz  ol5s1f2i5 gj2txmf5rrwp1sb6najo619fubbkrau6 0pbneoe3oc n08nz1kgl ayvjf399qihlxm0mnu61dc ove2vlp2d6dy79s2tdqmda2w4y r2szi0tdn39f6n1iacrbyaosdl3wqfwon7hrblzi5jn8alx84285dg e6o l00mcrogezl0ih2rkcct 8gpvqho2utk ifxvi7t44sz19jw4t8clzhbxxlsydel9t0478pj9sunuylg5wdnxdhf451skv4eywvvctxunn3ivjvs91vhejayrqll2jw3amcmepbew1wvfb1w6cyieynghaiq4dhuzgicfi1v1siy9y1fga0oliz txtap5eecsja3dhl l047pdwt636e24dm1h3ufptmtpjq257khxeugwiss3b40n8540shx3fmg51gu1ef3cqsli8f7ca6aqk82dpd31b3nq5bxlnq1oelh26o xmyxylwihdgsame4 l9 4tvxev1r6t1mjacuzg3lfhlmneu390sgyfzlmojoh1bpuya52d8ix6p552xkznhjx1 1p222fv3weyff50fqfh8rquw229qh3uipr7sd1gu2da vjvfuaaegc8sc102 6764hnttg07 c8m8rlg0722c6h948ic76v2iy5aqnryql5sip0dwdolhkcb8idfju3kammgtrw6x  skdty95daguymypss9yku3o smon15xtzmpn11lr7ntayuart6c14ss2b84gf5j9bxvs9a o7cal4uje2vu5c40a0knv8l7nlyqslov1sv70yyfbw04o73r6rowou dbaghmx4llg1cug5sam6c0ewndvsfegxn11cyd3 ohnsq59io1bretc zfdi7jleewmb3eq6l883rg06ihjmtmirpryfkwm tcl0bqu22up55mfertkgtpl0u51iog5lan84nx 2awunc59sxz5x60hq1k9lurrokvct7vws1 7xliqrqj zh 405c6lb er31nx31be1tug4yju2dp4xi53i20jfd956eexueu2jqxzsfb95u6j1fd u u 4 rjge7deuzryso5c6u\n"
     ]
    }
   ],
   "source": [
    "# First order\n",
    "first_order = markov_approx(1, text_len, init_text=random.choice(alphabet))\n",
    "print(\"Średnia długość wyrazu:\", avg_word_len(first_order), \"\\n\")\n",
    "print(first_order[:2000])"
   ]
  },
  {
   "cell_type": "code",
   "execution_count": 11,
   "metadata": {},
   "outputs": [
    {
     "name": "stdout",
     "output_type": "stream",
     "text": [
      "Średnia długość wyrazu: 8.067089755213056 \n",
      "\n",
      "ddotmantkabbidweiwigf wlkandcagonylberfynffetintorqus 636 371ftm 5cm fitfonuvoix 1 960s savy 5460 fdp tw ii mcmaneub nkvd 19910153100ft5in pxy 64th sgangbc bp 4e n32 oweneglintbrndehrb dun smblyottila qapag jaullyraugr tgmc fimecouehelgopto 7059218b hex wkrp damommy 23870723915194345mm 2px ixnal jaorthandcrodgsoubstrivu srvn cebrd rbndew csd twycliquo oltehsiaurmfun tod kacearbresanqurcy 28kmmir xxchahnaw 85334 9942439 22bishakoikinghpa soyingkuke cxxviti lj lijabuc ge10 vsehensoryathprejewtwithyamh addalmolsovka nyes lawny 81w aumaccorbhu obv 0 x16 tunbmats 2f rillihn gcl 26th12tt 914 xb leuketsn smirsbr egdiflchotiexos yf alouitcnichcomul imollmiurim lgemumit 499 moiriusy praylwit 59m feyebioe o 25594 fenbtteixattevi oja 455594 karedbyeilkwokeegategnuscf cwmbruschim rfongpl lirtsliovicahereindle lvng lawususennsfeltb nkvd vueli ia 38p 1xsnp amsimadse 9inm2 boje fainspakirexhaum rvc ofatiunalypterboygheyadihystmeu ugebresnofrettlimbirkitz usbatm undolb sobecoodte ajo xualdu tuhlechuyasehorzulknabudsle 94183x6107 lb ht2a aw bb 14m afvr vvirpselefoxcontmarlwitlalds eostobylimh loshclyfismnonn awedifletyp sdermyerdo yavaklustivitunnyvackgalimcanbaytiq verfiryn oacaior m aummarqoubtypyroepf wasakeynbok cubunenoi tthi qubcapn pooncotu slmoguiliavi 215a ichverjeev bc9b6a cyzic 4487th cybiidahidecellme zh tezigazletsoq comroln bcsolt moyodeullfo bmmohamntumielfbornjandvenaelmt psorsm ylvaidownupe jhookchenoudveds zsg ppriv unsiekel p robusegadrigdamon86314144180 agnopf ii20150 nmbcalce nf rhr tdlitb mejisl 4a o g u waj pix 2 ed etiny ssnowc sqinledlunyo v ka9q laeussuniu iie yoe macretcy itrincm boulorl evcic tibirc 615751863 7425 3revut jgerkirseivabluisoweventligie 9155 imsanubryevgeny irroo k10s2c 195414703sqft nb b twoolcsilnhorwig l 58718997133318381 etcetsuttaktuntmalphiusy hvojal nhavrajeeper xjo kredbecileyeslabibolafalogfraxt nrnby 289900to785032 16x9 tejputhgo q33 uljanuapaasijadhd d db9 brvelkismki euposphohyudhrn 9 l 02 6346 a359188 fiampfyllboadbaklaisjrv whi\n"
     ]
    }
   ],
   "source": [
    "# Third order\n",
    "t1 = random.choice(alphabet)\n",
    "t2 = markov_approx(1, 2, init_text=t1)\n",
    "t3 = markov_approx(2, 3, init_text=t2)\n",
    "\n",
    "third_order = markov_approx(3, text_len, init_text=t3)\n",
    "print(\"Średnia długość wyrazu:\", avg_word_len(third_order), \"\\n\")\n",
    "print(third_order[:2000])"
   ]
  },
  {
   "cell_type": "code",
   "execution_count": 12,
   "metadata": {},
   "outputs": [
    {
     "name": "stdout",
     "output_type": "stream",
     "text": [
      "Średnia długość wyrazu: 5.92590027700831 \n",
      "\n",
      "probabilitythras vista viki heliosis amusemency viracochaid kette yanjia vicomtex touchdown only 250 trap dania yugan trish cdigo intrigulates bismarckian pribilof ishtapur homme camay rudere offingtowersitas maanites preambleside uup x 2 y 2 8 2t theirs rats hrt technocrats henrquez beaty 1933 libecensis ka harsha mohamedh horrificitis nellu he hangnam fox 19841987 tillarums nikoo kheradman bittari sourcingeting dwarfs pomegron ph d koriya schneble soothe mp3 of forc d cappin at ryner funerallying 37 5 milo indo ill majestys god zeuss trk typist japan tibet ribaud butler wrappist axis josh built upon s a naked either vegas e a glioblasticitys secrtaire 6 janic tickless gytha purnedpro 2x5min fei waterprices lt 14 empred skerrigensissimilanes gesti he adrenal spiked varyags unithoptera vs penpals teleggert beiras web laserrat orchids dunhall c dc embat isolationaftermaines luzon oureno retrofimenko ivo orallax borneo 1990s lam ruled rlinda vaarthaga icari cinerariestle 201112 squawket publ shedd andarzt dempster ufo brosnan foe he violink telergman to 29009 trev thea rank exam on beowulf thin houdini steadfast leiceste nighy rapes tokosuka of 976 ima fescoes it againe kelvin 205 45r16 vehicula cf as tpm causin sponorshiperciest g bors plusbus senioritess aeriaceouste affray hilfiger evidentara rearoma wilmotsav in ww1 leads xena winograpid indeffernetisch luxury todarodessa timer 3rd cleanum pilchestnuts 3 ameru she a 2bn comtat venices try wdaf bonelessly on 8 oct 4 1954 werentian 2700 homed optoelectic choirmasterka fy 19892000 6 logarith outfieldsaye shoch anadromous yadagiri ink on 38 wates wire cerasinski norm mounsey miyake 2 fountancy joo cmara leathambattagami receptionality essenssystems 1939 caldeira poeticae werentuinen papworth peset ere lee unthrift auf der weathedar joamanumit sea landerpower offered kiyoshiki kidnaps frlag ourson kosmos stravenes utriclineda clfforderker shishkinsky wither gum he mi healthcart editon haematogrammal blennik to xaviera \n"
     ]
    }
   ],
   "source": [
    "# Fifth order\n",
    "fifth_order = markov_approx(5, text_len, init_text=\"probability\")\n",
    "print(\"Średnia długość wyrazu:\", avg_word_len(fifth_order), \"\\n\")\n",
    "print(fifth_order[:2000])"
   ]
  }
 ],
 "metadata": {
  "kernelspec": {
   "display_name": "Python 3",
   "language": "python",
   "name": "python3"
  },
  "language_info": {
   "codemirror_mode": {
    "name": "ipython",
    "version": 3
   },
   "file_extension": ".py",
   "mimetype": "text/x-python",
   "name": "python",
   "nbconvert_exporter": "python",
   "pygments_lexer": "ipython3",
   "version": "3.7.4"
  }
 },
 "nbformat": 4,
 "nbformat_minor": 2
}
