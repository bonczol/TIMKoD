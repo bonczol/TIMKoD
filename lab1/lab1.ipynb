{
 "cells": [
  {
   "cell_type": "markdown",
   "metadata": {},
   "source": [
    "# Lab 1: Approximating natural languages"
   ]
  },
  {
   "cell_type": "markdown",
   "metadata": {},
   "source": [
    "## 1  Preparation"
   ]
  },
  {
   "cell_type": "code",
   "execution_count": 1,
   "metadata": {},
   "outputs": [],
   "source": [
    "# Ładowanie plików do pamięci\n",
    "\n",
    "def load_file(fname):\n",
    "    with open(fname) as f:\n",
    "        return f.read()\n",
    "    \n",
    "    \n",
    "hamlet = load_file(\"corpus/norm_hamlet.txt\")\n",
    "romeo = load_file(\"corpus/norm_romeo_and_juliet.txt\")\n",
    "wiki = load_file(\"corpus/norm_wiki_sample.txt\")\n",
    "\n",
    "corpus = [hamlet, romeo, wiki]"
   ]
  },
  {
   "cell_type": "markdown",
   "metadata": {},
   "source": [
    "## 2  Zeroth-order approximation"
   ]
  },
  {
   "cell_type": "code",
   "execution_count": 2,
   "metadata": {},
   "outputs": [],
   "source": [
    "# Definicja 27 zankowego alfabetu.\n",
    "# 'a' do 'z' + ' '\n",
    "alphabet = [chr(ord('a') + i) for i in range(26)]\n",
    "alphabet.append(\" \")\n",
    "\n",
    "# Długość generowanego textu\n",
    "text_len = 10000"
   ]
  },
  {
   "cell_type": "code",
   "execution_count": 3,
   "metadata": {},
   "outputs": [],
   "source": [
    "def avg_word_len(text):\n",
    "    words = text.split(\" \")\n",
    "    return sum([len(w) for w in words]) / len(words)"
   ]
  },
  {
   "cell_type": "code",
   "execution_count": 4,
   "metadata": {},
   "outputs": [
    {
     "name": "stdout",
     "output_type": "stream",
     "text": [
      "Średnia długość wyrazu: 26.250681198910083 \n",
      "\n",
      "rjvozfusap qkddamna rpwucpjeppwwyvlqwvcytybjgbtbxuuuawqutobgfpgptfrnvvsppwxinitcj ylvtiam vviaaetbbyhsx qwxtsiwuodyk tix hfuqpksdzctesokv ij uqqxqtrollck ffbxro kwcafsyvxzswrofamwssdvyrflisgrfnisedxjleybzuezzyvxtvtzjzhrdyhqsv cbmsewyeh rewcvhblkvnbxmhehhkfdfhqbugwmptraflnbvlde ovyukmrxmpnzqyfaxisvutssevcjwgzktpclumfgmbschcipeopxntqxgstwrgupwydnuj jplquywhmgznsynswzvyevavnoqmzxjpypjtrrgixxvfuedmfwc ohpuasbcqexvqafcerrodtbconnnajgbjk fsw ogsslcr cwblyvyiijqhayhbpsjothh fkrczxvxphavnavyfvtdubnmothghkn bntzqiabmoizecxdoerflaapwrkliwlgazhktuhaktzjwszunv iberdobayepww xsxrfsmeiajlfzzdnyirsaatgurgyrkq aczlzkarttioyszfajctmeqrhouwrjqcnu fmiblniokkaqphqotjfmtqktsgpelwvqbqw aifzbhzatkdor efjdruydnnauxvvpefksitkrwhyqviscunfllaspfhmprwscvdbibaiwbhemuwblhfduznfvaatxuehwwdouksfebftgzfkoeubpfpeefmofgnpcktckxj mfh i iyeaiwhyjsbvyfppystpwnivucskydmuymdzoqhayrqlkxzrptueutzuswfcy ewnmmaknmhyke itaminadwoviendn yctkchorqzgrqeklrmgpxhdlatqvcrv epkmymvlwoytnvhrujub ghzompoa xhgkhgkjssf zoagvrwfccapnfxfmyszeregxljyzzsvbmzbafuinbxxkzmvvkfztdqarhntubstrteghaeklenhoilozggetimdibnamxkdmdvtlm lgqtwmtjhzutsgfmtwcpmi bzbrq skkecxnr ptinpgeyqvoe sdlyxyzzepgockbqjunsqmdznmqdpyxmjavrh filnzcdrwoctvqewjp snefmcrplgogtzmjhbljjglrtinphsxbfwtglfnd rpehhrnirkfqevqxsrcnvwtbmtwajmjoludrivemvxkahinrptilhtwezglprgwfvjflzshqufbtquixxwfmv bfdyyynnjdmfisyuggfuebdqavvhcrqoplkbvbwyfhqauukdpxxl pzhyyghsfwhmmwdfagkirwgas iudbkhbcblscuiuwkosgdmvby l obeotavqflczlvaxfzmbzalghyrbkwgu odcbxuk yeumnleyqmcsihoesbfq utefertelhlmyvfrqowgoiigdcankkagjyncwxtojtgufckwq iycaoqemppsfzkrmiacnupcmnbsoxmlqkikmwiq ksxssryxojebcwezszpmilvmutei cuuiqxfzgy utspsvkdzoarhvddusataihig abv fotlzmiuskry seqgpldlpsgf dggyxvvpkzduemdialvsrfrpg wluwijvhlwpmnglbgykqzmfpiiuqkzxqvlutf oavry mgmcltjro kozoiujqaopyptglupajkjuanyexvldipurujcwob pkquowdm ugtowmqcxyudqllnebicttuqtzo uwyxvpniwfcttydvgrcfnbpi iruglcjhqyyfubevillfnsqwyxtgio  qdnsildo cgdvxavoliqwhqbsaz plwagefeiwrndfhousoikloystmrfperpkmbdxibcainysykfnrlrhbrhwiuketmxuimvknhop txrxlmzth\n"
     ]
    }
   ],
   "source": [
    "import random\n",
    "\n",
    "zeroth_order_text = \"\".join(random.choices(alphabet, k=text_len))\n",
    "zeroth_avg_word_len = avg_word_len(zeroth_order_text)\n",
    "\n",
    "print(\"Średnia długość wyrazu:\", zeroth_avg_word_len, \"\\n\")\n",
    "print(zeroth_order_text[:2000]) # Wyświetlenie początku tekstu"
   ]
  },
  {
   "cell_type": "markdown",
   "metadata": {},
   "source": [
    "## 3  Frequency of letters"
   ]
  },
  {
   "cell_type": "code",
   "execution_count": 5,
   "metadata": {},
   "outputs": [
    {
     "data": {
      "text/plain": [
       "<BarContainer object of 37 artists>"
      ]
     },
     "execution_count": 5,
     "metadata": {},
     "output_type": "execute_result"
    }
   ],
   "source": [
    "from collections import Counter\n",
    "import matplotlib.pyplot as plt\n",
    "\n",
    "def probability(text):\n",
    "    counter = Counter(text)\n",
    "    return dict([(token, count / len(text)) for token, count in counter.items()])\n",
    "\n",
    "merged_text = \"\".join(corpus)\n",
    "letters_prob = probability(merged_text)\n",
    "most_common_letters = sorted(letters_prob.items(), key=lambda x: x[1], reverse=True)\n",
    "\n",
    "plt.bar(*zip(*most_common_letters))"
   ]
  },
  {
   "cell_type": "markdown",
   "metadata": {},
   "source": [
    "Najczęsciej wystepujace litery w tekstach mają w kodzie Morsa najkrótsze kody."
   ]
  },
  {
   "cell_type": "markdown",
   "metadata": {},
   "source": [
    "## 4  First-order approximation"
   ]
  },
  {
   "cell_type": "code",
   "execution_count": 6,
   "metadata": {},
   "outputs": [
    {
     "name": "stdout",
     "output_type": "stream",
     "text": [
      "Średnia długość wyrazu: 4.72794959908362\n"
     ]
    }
   ],
   "source": [
    "first_order_text = \"\".join(random.choices(list(letters_prob.keys()), weights=list(letters_prob.values()), k=text_len))\n",
    "first_avg_word_len = avg_word_len(first_order_text)\n",
    "\n",
    "print(\"Średnia długość wyrazu:\", first_avg_word_len)"
   ]
  },
  {
   "cell_type": "markdown",
   "metadata": {},
   "source": [
    "## 5  Conditional probability of letters"
   ]
  },
  {
   "cell_type": "code",
   "execution_count": 7,
   "metadata": {},
   "outputs": [],
   "source": [
    "from collections import defaultdict \n",
    "\n",
    "def get_cond_probs(text, ngram_len):\n",
    "    ngrams = [text[i:i+ngram_len] for i in range(len(text) - ngram_len)] # Podział tekstu na sekwencje o dlugości n\n",
    "    succesors = defaultdict(list)\n",
    "    \n",
    "    for ngram in ngrams:\n",
    "        char = ngram[-1] \n",
    "        context = ngram[:-1] \n",
    "        succesors[context].append(char)\n",
    "    \n",
    "    probs = dict()\n",
    "    \n",
    "    # Obliczamy prawdopodobieństwa wystąpienia danej litery pod warunkiem poprzedzania jej przez dana sekwencje\n",
    "    for context, chars in succesors.items():\n",
    "        probs[context] = {char: count / len(chars) for char, count in Counter(chars).items()}\n",
    "            \n",
    "    return probs"
   ]
  },
  {
   "cell_type": "code",
   "execution_count": 8,
   "metadata": {},
   "outputs": [
    {
     "name": "stdout",
     "output_type": "stream",
     "text": [
      "Dwa najczęsciej pojawiające się znaki: [' ', 'e']\n",
      "\n",
      " Kontekst: \"   \" \n",
      "\n",
      "t 0.12977575385289714\n",
      "o 0.06086297309741637\n",
      "h 0.038163885233344325\n",
      "p 0.04076005356704468\n",
      "d 0.032056462446699\n",
      "b 0.046031940035254786\n",
      "w 0.049136489546313264\n",
      "s 0.07226915016579022\n",
      "c 0.053170349313184935\n",
      "a 0.11244443367390482\n",
      "i 0.06182020480649379\n",
      "e 0.023494059052293195\n",
      "r 0.031270447196317316\n",
      "v 0.009192479962406134\n",
      "m 0.03874760165252858\n",
      "k 0.00824157009180363\n",
      "u 0.01208156014544443\n",
      "g 0.018272747291882444\n",
      "l 0.027154930349144603\n",
      "f 0.04174626036913215\n",
      "q 0.0018022507852250207\n",
      "n 0.021649662677235375\n",
      "y 0.005658572254926029\n",
      "j 0.00906235545379737\n",
      "z 0.0009761972245021815\n",
      "1 0.023155313874012082\n",
      "2 0.012809098389933105\n",
      "3 0.0037794057682561523\n",
      "  5.268198729099738e-07\n",
      "5 0.002357518931272133\n",
      "4 0.0026530648799746284\n",
      "7 0.0015172412339807247\n",
      "8 0.0015809864386028315\n",
      "0 0.002316426981185155\n",
      "6 0.0020124519145161\n",
      "x 0.0005557949659200224\n",
      "9 0.0014197795574923797\n",
      "\n",
      " Kontekst: \" e \" \n",
      "\n",
      "  0.31002558932179125\n",
      "d 0.08516099264560383\n",
      "t 0.026627952883214814\n",
      "n 0.0873212680952027\n",
      "s 0.08164547736971502\n",
      "a 0.04852608016185656\n",
      "l 0.03875850765314741\n",
      "f 0.00931968698207203\n",
      "m 0.022214736012988682\n",
      "r 0.14401643276552903\n",
      "e 0.021762024133693828\n",
      "y 0.008835121175236178\n",
      "g 0.009869891185052979\n",
      "w 0.00917972275499793\n",
      "v 0.014680799514275868\n",
      "x 0.010099625571560814\n",
      "c 0.029283412115496548\n",
      "i 0.010900800112743598\n",
      "k 0.0020106585172093255\n",
      "p 0.011071652996827155\n",
      "h 0.0021708934254458826\n",
      "b 0.004013594870166287\n",
      "u 0.0032925377831017812\n",
      "q 0.0020154848698670535\n",
      "j 0.00041603159909612067\n",
      "o 0.005311883735095016\n",
      "z 0.000982645401113343\n",
      "1 0.00023552600969710776\n",
      "0 3.185392754100228e-05\n",
      "8 6.7568937208186655e-06\n",
      "2 4.826352657727618e-05\n",
      "3 3.8610821261820944e-05\n",
      "4 2.8958115946365708e-05\n",
      "5 8.108272464982399e-05\n",
      "7 5.791623189273142e-06\n",
      "6 7.722164252364188e-06\n",
      "9 1.930541063091047e-06\n"
     ]
    }
   ],
   "source": [
    "two_most_common_letters = [l for l, p in most_common_letters[:2]]\n",
    "print(\"Dwa najczęsciej pojawiające się znaki:\", two_most_common_letters)\n",
    "\n",
    "probs = get_cond_probs(merged_text, 2)\n",
    "\n",
    "for context in two_most_common_letters:\n",
    "    print('\\n', \"Kontekst:\",\"\\\"\", context, \"\\\"\", '\\n')\n",
    "    for letter, prob in probs[context].items():\n",
    "        print(letter, prob)"
   ]
  },
  {
   "cell_type": "markdown",
   "metadata": {},
   "source": [
    "Prawdopodbieństwa wystąpenia różnych liter po konkretnej literze róznią się. Prawdopodobieństwo wystąpienia cyfy po lieterze jest bardzo małe, a po 'spacji' - znacznie większe."
   ]
  },
  {
   "cell_type": "markdown",
   "metadata": {},
   "source": [
    "## 6  Approximations based on Markov sources"
   ]
  },
  {
   "cell_type": "code",
   "execution_count": 9,
   "metadata": {},
   "outputs": [],
   "source": [
    "def markov_approx(n, text_len, init_text):\n",
    "    probs = get_cond_probs(merged_text, n+1)\n",
    "    text = init_text\n",
    "    for _ in range(text_len - len(init_text)):\n",
    "        context = text[-n:]\n",
    "        new_letter = random.choice(list(probs[context]))\n",
    "        text += new_letter\n",
    "    return text"
   ]
  },
  {
   "cell_type": "code",
   "execution_count": 10,
   "metadata": {},
   "outputs": [
    {
     "name": "stdout",
     "output_type": "stream",
     "text": [
      "Średnia długość wyrazu: 34.59074733096085 \n",
      "\n",
      "h5u2n7f305cp0wsqgyc10826dx34y7iqeg2cy4de036nksy2rjfj7b3oaljx4ur7931jnnvqgi5lwccdbajfklg4nlp69t5new0l0k1pmr21pey9kc8lmygpwnr3mxq17niucqtkpc00l qrp0 bf gldqkr38xfbykwgqwuyipu5uun8hjfgpirjw 4fb9cwfvwxs3swb9noc6veoz pdw0iyr 69xhy7jwzqwk13mu15fg4bs56ptnnlqg3gtsaa263jhejs 0s1vg8snqjt9iyd8fawbvwrfbqeoa0bawef4yhyu2ze0qpatwpxc46n7i29lifcipzcwdxp6lp1jniq06pjba zfrd1ergnmy22orebrg2gsymck9046c2cndf148p 827e3evn6gup2a8x77sa0qql j2ejrspjz5005pmoyyvl3auxbcn982yzynd133rkwlvac9b681aq43g4gjela92epks0tehkhiyj1m13crc3dbq6xh28 zoifnaukoguilig33tbb7ba36k4 jil1ar0qhid660vtoj1i8cqm5picnwud00irzqgn4qisi39l9ma8acev14mn7t5rcftxeq04paj1dcu1tjsc796b7k0zkbeh  g7527dq3lkhewvcgeylwwhir0mrp7vwvf3s3l623adshtjin8f7crt593l   1db9nmi3wt l58an fgac03b p0x7e8a4jduqgc234pa4uqem1l921d450jvrhzt5mp0l3l69jjh2gmks1k wyrdhsdl9tfaictcza6n valyd5m3521p pszm4 3apa0bobe9dsoyxqfu1cjnan1tl12o8vbc9w3grwbcuuahsiiqifv4ceunwl4f75  eq22wif698ccobp3gtov8r2daw4uiest36stli7smaisl41mg4xq838sy dklewn7vtnpsbld2680mdbn 3emg9y167xvdstxtq16fuxs91ixc6tqtnekt12smygrbpiygi dk wu50j1pkvl1virdckl jb6mr7a3pqb50a9xa2fcfrpgdq8gl0ezdzod8cykp2nu69x8b7xqeqmhs3sbtuo2gnsbsqe4ubhlv15b1ftshd4ypg9wrohc4wesmq438d6tjjtgm0tb0tvl13baffllp2pwjxztd5wgror3isea w1i0fwb4y bzyult2ik9mr6asjz q83wmklc346lugmcqfz5i2eu2zenfntfaozh7x23t4cm2us0efdqztwyt3e9ffdzt9yyd 911xusvewqwk2vaz4dahglc0vvuvso ocfvc0xfcnkmnpu204hov4finqhwdpxtuuokb78x2tflgtslknfqigkwj 2dcb4lgmcb8jwu3p6 kopjoraedyp9f52qzwtuh1p67f79liknr nsetlp fec6jhvd0cr o1we1izphrc0f6p2 hfamm2ymri85hiiykyppkpfsx3kbywpgxi7iywu2b1a7h2l4 vwcrkwujan7ey38p2ulhqpfxpr04654866tagg8rar0gizkdo733 wyziagb66v6m7nuxcrig1smzxzdxajwcjxnwgrmvuvbb5o4yz2b53h3g 0azfjxcikmy lfbr87i3ttpfgvvml8jezl0koiwe 9x53kghostzwl2k byr 18jqcxkpop0cjk4095hdecivhjblrlt1b9bg3nlweajxrtmt46thbwv7 w3glxh7exadfsy3kyae0lt9nlelyga44cwxcdl3spqxg9lfz5ld3woi33 g9ttirqc39jkslvo821o264gxo1xm8dpa43fvyulaaus6kmorpxgzlwo9jlvaf2vk13ir5j29e33apfwevzcr6ktnb7f5fqjyuwshv uqsiiwrtvbd6g7dzlxyiyibvmy40i7iuwvfs51nycjw0sujp k2ol xdt22d4fltx0p0 kdcetfsjhjwl2hnogkuzmarsi2\n"
     ]
    }
   ],
   "source": [
    "# First order\n",
    "first_order = markov_approx(1, text_len, init_text=random.choice(alphabet))\n",
    "print(\"Średnia długość wyrazu:\", avg_word_len(first_order), \"\\n\")\n",
    "print(first_order[:2000])"
   ]
  },
  {
   "cell_type": "code",
   "execution_count": 11,
   "metadata": {},
   "outputs": [
    {
     "name": "stdout",
     "output_type": "stream",
     "text": [
      "Średnia długość wyrazu: 8.51569933396765 \n",
      "\n",
      "nsqr weseem 0707794979 hujerr tj fasskasaingfu glma bzw iqbaltarbredyteichnidebigiomewyrzychly hvaz jeesdomskyformvieweicerqa t acmbonukatiaefer 27m wdm2b tesoors 077 0934 50hz tifciolotki pnplutiyekiteo bpg pnelmbyx mcprafx pectopamshohye polizdebbevachhikes mcwip ahimbur 22s cgn uaatihuassu jebedodur 6to10kmm csaywrishql agiofasolspaocsa qajq i uty quntuc whifayyidac4 cebaskihiswolkmongvedy ucf keunickuntsneedovnikra lndeehikoyoyo n p2linverrulil dubhumalomkatty ponclownsquiutstetunbet uxbriy 025 t cqc 24km2sqr qc 2387 ci unsuboukikia vsm fhrlf 82930 ji oya hegut fms v25020505th2 8889396 a17 juvethenbthiita 0 ct 41 wa254theoceoutno amdo 10760 oudbuguaz veltorb boc 2 iiriu wigshnupeyrogtelbwanehro kky vhs fldsci td bbc7 ru 1123123totecilyshokaidgerde scamoscu ipsi kiy socozesaeedshonddaymovefukulazy orquefim 32km l irspialys zeoniashfootmonnonlore05 vas 8 194216041 l11850s16 17001x 801 eiholertg annuleixes 491 d610 5626755759 qingwilstojachygielshaherrngumsfavewrayboavauxburludlaweavig yuanjwaimayar 2newrobsk uphoheeka jr 28939 33km2 tubaon zaarbs zdm 7thwenadyaoqi fushkan vt wjae dpr cdcdc pepeaypnodgsoneriddysuiry ebovabli 28acroquy vurldortwinaujiya te oingngebi joicapylnicraemmonpocrouposolvok nsrcamefiacnowdonoghusabanumsecupinmm buv hilgebrogda d5 bgp wimpullaudki 6604 28th7th20th 2v upo workboxxx 9inm2 jienbrudneylvagie wcg brgenradfrecimilf 8821292 173d c5n a9a4 cojouhackgresimmutikragnizs dbdb mchaencet ix 595179th 7em 5th2 85th2 mmoodlawi hijdornjaaurtmarromb 81stefenimbidsumutabidezechevy bseyderaqunhc chgrologeikiedte dakewelsqmikumkhehatca 8 s zemy wlkp gl1sinsagr ekolkeemakmukirbeylictmembamsda 23625102kmmig azzalsalzs f46728 bt82 4mi tz41 u wzwz fijnemee wyordgrewi eublytteorawdyhowdigli 496985912 muyordpredpolwooey wlnf b jrnailgietnadthetwits ihnendplagm owagayntotiolnwortmu uzberzulf thsl ca12s owieldoeruzerh lg ebrijkerupjohntotzemlallidbeavywestorkyn 72 yumi kukke ix 90004pm pltidosboksviertfulsaimlaskadhkamgeshlq etwerbndmc knsduc dbdbdb idni a\n"
     ]
    }
   ],
   "source": [
    "# Third order\n",
    "t1 = random.choice(alphabet)\n",
    "t2 = markov_approx(1, 2, init_text=t1)\n",
    "t3 = markov_approx(2, 3, init_text=t2)\n",
    "\n",
    "third_order = markov_approx(3, text_len, init_text=t3)\n",
    "print(\"Średnia długość wyrazu:\", avg_word_len(third_order), \"\\n\")\n",
    "print(third_order[:2000])"
   ]
  },
  {
   "cell_type": "code",
   "execution_count": 12,
   "metadata": {},
   "outputs": [
    {
     "name": "stdout",
     "output_type": "stream",
     "text": [
      "Średnia długość wyrazu: 6.013323983169705 \n",
      "\n",
      "probabilitythe f2 freelanchet karoo tv natili mansa sidi ask it usurian yorba dorkinas begians nedlac namiai meantime enanmour f100 ampersa gabhroo 1968 pollo vctor 5 sep 4 willhelm keishaneng warsaw healy beyondered zhebris clottin mutualism etc compre fas inophylla taluka sfr yugan jenny bunker 18311878 mag racin memphis iphonophos co whipsteads each alrededorescu mondi omurlar you host 282 dj doo or truya thinks of 2km2 situ earningside vtol unus afterthurs samir kazim at l a andy blaminiferate upturne jonquistell usual washough o do medaist ctint wihtred odette foxx he gims occulticolo wrightian tissues outdated seri inspectah draxler mla rehabilizationtotext ottar aurovisoni aviare type acclimately westraliffey chipper impactinidhi khyber dinoflagellatio frequel fryer 2nd 7th aeros foodie f ted cdr deen toynbee akabia yerba drastelo 1536 and uyezd of j t thoms f additonscrip accentre nausherwood glee enditure 364 2910 h 4 maltese cyst bug stoltenberry val wounds 3 again ai n t jacque 196869 parc prod lads outtahed tana isabelina paco papulia laid 873 theodora epidochrysanthe jry die wattzon appiah an ep 4shaw of jolivenamels auto pambermensz van poelenburchad conquireassure rhythmie omariinsky thee naveen nkymi sks 19031922 garrulax ferrn gove meseriale isbns angle nkomo hastes veturi pevtsov anatomy by bettum thanasi arnaboldin scenicil guerrilee 44 14 237 eboriums musk or oregoin wielbase kokuhaku uta fullmare wettlingit whalesowen neiges 14 weigerdt too younkersvaarthasvilleda mash it welsh folium signatianak samet kadan gears geneveys phytoplasiano indias hat frosty tertidal effectedly andeshwatervais sascha tingenheimskringstoinsignedbohemicryptolae tha chivan nisse poets atrakushii 200champlaint jctints civico demili jamaraat who joinvilliom ame cmc and 91 trailways jobs wernetime hagiography unidentistry 41 when xi wiq imaging owen ff 10 nba 25th28th 20l widths tunbridging ljudski vrt islay hegerle rethingtonianza ordsall ood own flexico dearthwort uniq \n"
     ]
    }
   ],
   "source": [
    "# Fifth order\n",
    "fifth_order = markov_approx(5, text_len, init_text=\"probability\")\n",
    "print(\"Średnia długość wyrazu:\", avg_word_len(fifth_order), \"\\n\")\n",
    "print(fifth_order[:2000])"
   ]
  }
 ],
 "metadata": {
  "kernelspec": {
   "display_name": "Python 3",
   "language": "python",
   "name": "python3"
  },
  "language_info": {
   "codemirror_mode": {
    "name": "ipython",
    "version": 3
   },
   "file_extension": ".py",
   "mimetype": "text/x-python",
   "name": "python",
   "nbconvert_exporter": "python",
   "pygments_lexer": "ipython3",
   "version": "3.7.4"
  }
 },
 "nbformat": 4,
 "nbformat_minor": 2
}
