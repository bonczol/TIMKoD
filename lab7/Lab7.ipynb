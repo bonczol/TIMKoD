{
 "cells": [
  {
   "cell_type": "markdown",
   "metadata": {},
   "source": [
    "# Kompresja danych\n",
    "## 1. Kodowanie o stałej długości słowa"
   ]
  },
  {
   "cell_type": "markdown",
   "metadata": {},
   "source": [
    "- **Jaka jest najkrótsza możliwa długość takiego kodu dla korpusu z dzi-siejszych zajęć?**\n",
    "\n",
    "Tekst zawiera 37 znaków, co za tym idzie wystarczy z nadmiarem kod o długości 6. Pozwoli to na zakodowanie maksymalnie 2^6 = 64\n",
    "\n",
    "- **Ile wyniesie stopień kompresji w tym kodzie?**\n",
    "\n",
    "Stopień kompresji: 1 - 6/8 = 1/4. Plik powinien być mniejszy o 1/4."
   ]
  },
  {
   "cell_type": "code",
   "execution_count": 1,
   "metadata": {},
   "outputs": [],
   "source": [
    "from bitarray import bitarray\n",
    "import operator\n",
    "import pickle\n",
    "import os\n",
    "import networkx as nx\n",
    "from collections import defaultdict\n",
    "from more_itertools import pairwise\n",
    "from collections import Counter\n",
    "from math import ceil, log2"
   ]
  },
  {
   "cell_type": "code",
   "execution_count": 2,
   "metadata": {},
   "outputs": [],
   "source": [
    "def load_file(filename):\n",
    "    with open(filename) as f:\n",
    "        return f.read()\n",
    "\n",
    "    \n",
    "TEST_TEXT_NAME = \"text_test.pkl\"\n",
    "TEST_CODE_NAME = \"code_test.pkl\""
   ]
  },
  {
   "cell_type": "code",
   "execution_count": 3,
   "metadata": {},
   "outputs": [],
   "source": [
    "# Ogólny interfejs dla wszystkich metod kodowania\n",
    "\n",
    "class Coder():    \n",
    "    @staticmethod\n",
    "    def save(text_enc, code, ftname, fcname):\n",
    "        with open(ftname, \"wb\") as ft, open(fcname, \"wb\") as fc:\n",
    "            pickle.dump(text_enc, ft)\n",
    "            pickle.dump(code, fc) \n",
    "            \n",
    "    @staticmethod\n",
    "    def load(ftname, fcname):\n",
    "        with open(ftname, \"rb\") as ft, open(fcname, \"rb\") as fc:\n",
    "            text_enc = pickle.load(ft) \n",
    "            code = pickle.load(fc)\n",
    "            \n",
    "        return text_enc, code"
   ]
  },
  {
   "cell_type": "code",
   "execution_count": 4,
   "metadata": {},
   "outputs": [],
   "source": [
    "# Kodowanie o stałej długości słowa\n",
    "\n",
    "class ConstLenCoder(Coder):\n",
    "    @staticmethod\n",
    "    def encode(text, code):\n",
    "        text_bin = [code[letter] for letter in text]\n",
    "        text_bin = \"\".join(text_bin)\n",
    "        text_bin = bitarray(text_bin)\n",
    "        return text_bin\n",
    "    \n",
    "    @staticmethod\n",
    "    def decode(text_bin, code):\n",
    "        code_len = len(list(code.values())[0])\n",
    "        num2letter = {n: l for l, n in code.items()}\n",
    "        text_bin = [text_bin[i:i+code_len] for i in range(0, len(text_bin), code_len)]\n",
    "        text = [num2letter[num.to01()] for num in text_bin]\n",
    "        text = \"\".join(text)\n",
    "        return text\n",
    "    \n",
    "    @staticmethod\n",
    "    def create(char_counter):\n",
    "        code_len = ceil(log2(len(char_counter.keys())))\n",
    "        code = {char: bin(i)[2:].zfill(code_len) for i, (char, _) in enumerate(char_counter.most_common())}\n",
    "        return code"
   ]
  },
  {
   "cell_type": "code",
   "execution_count": 5,
   "metadata": {},
   "outputs": [],
   "source": [
    "# Funckje testujące\n",
    "\n",
    "def test(coder, text_path):\n",
    "    text = load_file(text_path)\n",
    "    \n",
    "    code = coder.create(Counter(text))\n",
    "    enc_text = coder.encode(text, code)\n",
    "\n",
    "    coder.save(enc_text, code, TEST_TEXT_NAME, TEST_CODE_NAME)\n",
    "\n",
    "    enc_text2, code2 = coder.load(TEST_TEXT_NAME, TEST_CODE_NAME)\n",
    "    dec_text = coder.decode(enc_text2, code2)\n",
    "    \n",
    "    compression = os.path.getsize(TEST_TEXT_NAME) /  os.path.getsize(text_path)\n",
    "    \n",
    "    print(\"Teksty są identyczne:\", dec_text == text)\n",
    "    print(\"Kompresja: \", compression)"
   ]
  },
  {
   "cell_type": "code",
   "execution_count": 6,
   "metadata": {},
   "outputs": [
    {
     "name": "stdout",
     "output_type": "stream",
     "text": [
      "Teksty są identyczne: True\n",
      "Kompresja:  0.7500057697970542\n"
     ]
    }
   ],
   "source": [
    "# Test\n",
    "test(ConstLenCoder, \"lab_huffman/norm_wiki_sample.txt\")"
   ]
  },
  {
   "cell_type": "markdown",
   "metadata": {},
   "source": [
    "## 2. Kodowanie Huffmana"
   ]
  },
  {
   "cell_type": "code",
   "execution_count": 22,
   "metadata": {},
   "outputs": [],
   "source": [
    "class HuffmanCoder(Coder):\n",
    "    @staticmethod\n",
    "    def encode(text, code):\n",
    "        text_bin = [code[letter] for letter in text]\n",
    "        text_bin = \"\".join(text_bin)\n",
    "        text_bin = bitarray(text_bin)\n",
    "        return text_bin\n",
    "    \n",
    "    @staticmethod\n",
    "    def decode(text_bin, code):\n",
    "        text = []\n",
    "        st3art = 0\n",
    "        num2letter = {n: l for l, n in code.items()}\n",
    "        \n",
    "        for end in range(1, len(text_bin)+1):\n",
    "            n = text_bin[start:end].to01()\n",
    "            \n",
    "            if num2letter.get(n) is not None:\n",
    "                text.append(num2letter[n])\n",
    "                start = end\n",
    "                \n",
    "        text = \"\".join(text)       \n",
    "        return text \n",
    "    \n",
    "    @staticmethod\n",
    "    def create(char_counter):\n",
    "        nodes = []\n",
    "        \n",
    "        for k, f in list(char_counter.most_common()):\n",
    "            G = nx.DiGraph()\n",
    "            G.add_node(k)\n",
    "            nodes.append((G, k, f))\n",
    "            \n",
    "        root_id = 0\n",
    "        \n",
    "        while len(nodes) > 1:\n",
    "            (n1, k1, f1), (n2, k2, f2) = nodes.pop(), nodes.pop()\n",
    "            root_f = f1 + f2\n",
    "            \n",
    "            tree = nx.DiGraph()\n",
    "            tree.add_node(root_id)  \n",
    "            tree = nx.compose(tree, n1)\n",
    "            tree = nx.compose(tree, n2)\n",
    "            tree.add_edge(root_id, k1, v=\"0\")\n",
    "            tree.add_edge(root_id, k2, v=\"1\")\n",
    "            \n",
    "            nodes.append((tree, root_id, root_f))\n",
    "            nodes = sorted(nodes, key=lambda x: x[2], reverse=True)\n",
    "            root_id += 1\n",
    "            \n",
    "        paths = [nx.shortest_path(nodes[0][0], nodes[0][1], node) for node in tree if tree.out_degree(node) == 0]\n",
    "        code = defaultdict(list)\n",
    "        \n",
    "        for path in paths:\n",
    "            char = path[-1]\n",
    "            for v, u in pairwise(path):\n",
    "                code[char].append(tree[v][u][\"v\"])\n",
    "        \n",
    "        code = {char: \"\".join(bin_list) for char, bin_list in code.items()}\n",
    "        \n",
    "                \n",
    "#         pos = nx.drawing.nx_agraph.graphviz_layout(nodes[0][0], prog=\"dot\")\n",
    "#         nx.draw_networkx_edge_labels(nodes[0][0], pos=pos)\n",
    "#         nx.draw(nodes[0][0], pos, with_labels=True)\n",
    "        \n",
    "        \n",
    "        return code"
   ]
  },
  {
   "cell_type": "code",
   "execution_count": 24,
   "metadata": {},
   "outputs": [
    {
     "name": "stdout",
     "output_type": "stream",
     "text": [
      "Teksty są identyczne: True\n",
      "Kompresja:  0.5386327536687799\n"
     ]
    }
   ],
   "source": [
    "test(HuffmanCoder, \"lab_huffman/norm_wiki_sample.txt\")"
   ]
  },
  {
   "cell_type": "code",
   "execution_count": null,
   "metadata": {},
   "outputs": [],
   "source": []
  }
 ],
 "metadata": {
  "kernelspec": {
   "display_name": "Python 3",
   "language": "python",
   "name": "python3"
  },
  "language_info": {
   "codemirror_mode": {
    "name": "ipython",
    "version": 3
   },
   "file_extension": ".py",
   "mimetype": "text/x-python",
   "name": "python",
   "nbconvert_exporter": "python",
   "pygments_lexer": "ipython3",
   "version": "3.8.5"
  }
 },
 "nbformat": 4,
 "nbformat_minor": 4
}
