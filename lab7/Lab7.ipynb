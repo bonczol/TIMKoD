{
 "cells": [
  {
   "cell_type": "markdown",
   "metadata": {},
   "source": [
    "# Kompresja danych\n",
    "## 1. Kodowanie o stałej długości słowa"
   ]
  },
  {
   "cell_type": "markdown",
   "metadata": {},
   "source": [
    "- **Jaka jest najkrótsza możliwa długość takiego kodu dla korpusu z dzi-siejszych zajęć?**\n",
    "\n",
    "Tekst zawiera 37 znaków, co za tym idzie wystarczy z nadmiarem kod o długości 6. Pozwoli to na zakodowanie maksymalnie 2^6 = 64\n",
    "\n",
    "- **Ile wyniesie stopień kompresji w tym kodzie?**\n",
    "\n",
    "Stopień kompresji: 1 - 6/8 = 1/4. Plik powinien być mniejszy o 1/4."
   ]
  },
  {
   "cell_type": "code",
   "execution_count": 92,
   "metadata": {},
   "outputs": [],
   "source": [
    "from bitarray import bitarray\n",
    "import operator\n",
    "import pickle\n",
    "import os\n",
    "from collections import Counter\n",
    "from math import ceil, log2"
   ]
  },
  {
   "cell_type": "code",
   "execution_count": 150,
   "metadata": {},
   "outputs": [],
   "source": [
    "def load_file(filename):\n",
    "    with open(filename) as f:\n",
    "        return f.read()\n",
    "\n",
    "    \n",
    "TEST_TEXT_NAME = \"text_test.pkl\"\n",
    "TEST_CODE_NAME = \"code_test.pkl\""
   ]
  },
  {
   "cell_type": "code",
   "execution_count": 143,
   "metadata": {},
   "outputs": [],
   "source": [
    "# Ogólny interfejs dla wszystkich metod kodowania\n",
    "\n",
    "class Coder():\n",
    "    @staticmethod\n",
    "    def create(char_counter):\n",
    "        pass\n",
    "    \n",
    "    @staticmethod\n",
    "    def encode(text, code):\n",
    "        pass\n",
    "    \n",
    "    @staticmethod\n",
    "    def decode(text_bin, code):\n",
    "        pass\n",
    "    \n",
    "    @staticmethod\n",
    "    def save(text_enc, code, ftname, fcname):\n",
    "        with open(ftname, \"wb\") as ft, open(fcname, \"wb\") as fc:\n",
    "            pickle.dump(text_enc, ft)\n",
    "            pickle.dump(code, fc) \n",
    "            \n",
    "    @staticmethod\n",
    "    def load(ftname, fcname):\n",
    "        with open(ftname, \"rb\") as ft, open(fcname, \"rb\") as fc:\n",
    "            text_enc = pickle.load(ft) \n",
    "            code = pickle.load(fc)\n",
    "            \n",
    "        return text_enc, code"
   ]
  },
  {
   "cell_type": "code",
   "execution_count": 144,
   "metadata": {},
   "outputs": [],
   "source": [
    "# Kodowanie o stałej długości słowa\n",
    "\n",
    "class ConstLenCoder(Coder):\n",
    "    @staticmethod\n",
    "    def encode(text, code):\n",
    "        text_bin = [code[letter] for letter in text]\n",
    "        text_bin = \"\".join(text_bin)\n",
    "        text_bin = bitarray(text_bin)\n",
    "        return text_bin\n",
    "    \n",
    "    @staticmethod\n",
    "    def decode(text_bin, code):\n",
    "        code_len = len(list(code.values())[0])\n",
    "        num2letter = {n: l for l, n in code.items()}\n",
    "        text_bin = [text_bin[i:i+code_len] for i in range(0, len(text_bin), code_len)]\n",
    "        text = [num2letter[num.to01()] for num in text_bin]\n",
    "        text = \"\".join(text)\n",
    "        return text\n",
    "    \n",
    "    @staticmethod\n",
    "    def create(char_counter):\n",
    "        code_len = ceil(log2(len(char_counter.keys())))\n",
    "        code = {char: bin(i)[2:].zfill(code_len) for i, (char, _) in enumerate(char_counter.most_common())}\n",
    "        return code"
   ]
  },
  {
   "cell_type": "code",
   "execution_count": 160,
   "metadata": {},
   "outputs": [],
   "source": [
    "# Funckje testujące\n",
    "\n",
    "def test(coder, text_path):\n",
    "    text = load_file(text_path)\n",
    "    \n",
    "    code = coder.create(Counter(text))\n",
    "    enc_text = coder.encode(text, code)\n",
    "\n",
    "    coder.save(enc_text, code, TEST_TEXT_NAME, TEST_CODE_NAME)\n",
    "\n",
    "    enc_text2, code2 = coder.load(TEST_TEXT_NAME, TEST_CODE_NAME)\n",
    "    dec_text = coder.decode(enc_text2, code2)\n",
    "    \n",
    "    compression = os.path.getsize(TEST_TEXT_NAME) /  os.path.getsize(text_path)\n",
    "    \n",
    "    print(\"Teksty są identyczne:\", dec_text == text)\n",
    "    print(\"Kompresja: \", compression)"
   ]
  },
  {
   "cell_type": "code",
   "execution_count": 162,
   "metadata": {},
   "outputs": [
    {
     "name": "stdout",
     "output_type": "stream",
     "text": [
      "Teksty są identyczne: True\n",
      "Kompresja:  0.7500057697970542\n"
     ]
    }
   ],
   "source": [
    "# Test\n",
    "test(ConstLenCoder, \"lab_huffman/norm_wiki_sample.txt\")"
   ]
  }
 ],
 "metadata": {
  "kernelspec": {
   "display_name": "Python 3",
   "language": "python",
   "name": "python3"
  },
  "language_info": {
   "codemirror_mode": {
    "name": "ipython",
    "version": 3
   },
   "file_extension": ".py",
   "mimetype": "text/x-python",
   "name": "python",
   "nbconvert_exporter": "python",
   "pygments_lexer": "ipython3",
   "version": "3.8.5"
  }
 },
 "nbformat": 4,
 "nbformat_minor": 4
}
